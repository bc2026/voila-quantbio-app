{
 "cells": [
  {
   "cell_type": "code",
   "execution_count": 7,
   "id": "a2f9ef17-8e68-4434-a08a-3afe30dfa39f",
   "metadata": {
    "execution": {
     "iopub.execute_input": "2025-05-04T17:45:43.077165Z",
     "iopub.status.busy": "2025-05-04T17:45:43.076844Z",
     "iopub.status.idle": "2025-05-04T17:45:43.391351Z",
     "shell.execute_reply": "2025-05-04T17:45:43.390510Z",
     "shell.execute_reply.started": "2025-05-04T17:45:43.077140Z"
    }
   },
   "outputs": [
    {
     "data": {
      "application/vnd.jupyter.widget-view+json": {
       "model_id": "d4c5385695e04d6b84f2318813faec55",
       "version_major": 2,
       "version_minor": 0
      },
      "text/plain": [
       "interactive(children=(FloatSlider(value=0.1, description='Death Rate (d)', max=1.0, step=0.01), FloatSlider(va…"
      ]
     },
     "metadata": {},
     "output_type": "display_data"
    },
    {
     "data": {
      "text/plain": [
       "<function __main__.plot_growth_family(d=0.1, f=0.3)>"
      ]
     },
     "execution_count": 7,
     "metadata": {},
     "output_type": "execute_result"
    }
   ],
   "source": [
    "import numpy as np\n",
    "import matplotlib.pyplot as plt\n",
    "from ipywidgets import interact, FloatSlider\n",
    "\n",
    "def malthusian_growth(P0, r, t):\n",
    "    return P0 * np.exp(r * t)\n",
    "\n",
    "def plot_growth_family(d=0.1, f=0.3):\n",
    "    P0 = 100\n",
    "    t = np.linspace(0, 50, 300)\n",
    "    r_max = 1 + f - d\n",
    "\n",
    "    # Handle negative or zero r\n",
    "    if r_max <= 0:\n",
    "        print(\"Growth rate r <= 0: population will not grow.\")\n",
    "        r_values = [r_max]\n",
    "    else:\n",
    "        r_values = np.linspace(0, r_max, 10)\n",
    "\n",
    "    plt.figure(figsize=(10, 6))\n",
    "    for r in r_values:\n",
    "        P = malthusian_growth(P0, r, t)\n",
    "        label = f\"r = {r:.2f}\"\n",
    "        plt.plot(t, P, label=label)\n",
    "\n",
    "    plt.title(f\"Malthusian Growth for Varying r (1 + f - d = {r_max:.2f})\")\n",
    "    plt.xlabel(\"Time\")\n",
    "    plt.ylabel(\"Population\")\n",
    "    plt.ylim(0, P0 * np.exp(max(r_values) * max(t)) * 1.05)\n",
    "    plt.grid(True)\n",
    "    plt.legend()\n",
    "    plt.show()\n",
    "\n",
    "interact(plot_growth_family,\n",
    "         d=FloatSlider(value=0.1, min=0, max=1.0, step=0.01, description='Death Rate (d)'),\n",
    "         f=FloatSlider(value=0.3, min=0, max=1.0, step=0.01, description='Fertility Rate (f)'))\n"
   ]
  },
  {
   "cell_type": "code",
   "execution_count": 8,
   "id": "ca255ece-7915-478d-a7c4-da5cc0fa5604",
   "metadata": {
    "execution": {
     "iopub.execute_input": "2025-05-04T17:49:01.555239Z",
     "iopub.status.busy": "2025-05-04T17:49:01.554391Z",
     "iopub.status.idle": "2025-05-04T17:49:01.561248Z",
     "shell.execute_reply": "2025-05-04T17:49:01.560371Z",
     "shell.execute_reply.started": "2025-05-04T17:49:01.555205Z"
    }
   },
   "outputs": [],
   "source": []
  }
 ],
 "metadata": {
  "kaggle": {
   "accelerator": "none",
   "dataSources": [],
   "dockerImageVersionId": 31012,
   "isGpuEnabled": false,
   "isInternetEnabled": true,
   "language": "python",
   "sourceType": "notebook"
  },
  "kernelspec": {
   "display_name": "Python 3",
   "language": "python",
   "name": "python3"
  },
  "language_info": {
   "name": "python"
  }
 },
 "nbformat": 4,
 "nbformat_minor": 5
}
