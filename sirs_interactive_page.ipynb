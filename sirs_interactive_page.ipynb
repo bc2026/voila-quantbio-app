import numpy as np
import matplotlib.pyplot as plt
from scipy.integrate import odeint
from ipywidgets import interact, FloatSlider

def sirs_model(y, t, beta, nu, gamma):
    S, I, R = y
    dSdt = -beta * S * I + gamma * R
    dIdt = beta * S * I - nu * I
    dRdt = nu * I - gamma * R
    return [dSdt, dIdt, dRdt]

def plot_sirs(beta=0.3, nu=0.1, gamma=0.05):
    # Initial conditions
    S0, I0, R0 = 0.9, 0.1, 0.0
    y0 = [S0, I0, R0]
    
    t = np.linspace(0, 160, 400)
    
    # Integrate the SIRS equations
    sol = odeint(sirs_model, y0, t, args=(beta, nu, gamma))
    S, I, R = sol.T

    plt.figure(figsize=(10, 6))
    plt.plot(t, S, label="Susceptible")
    plt.plot(t, I, label="Infected")
    plt.plot(t, R, label="Recovered")
    plt.title(f"SIRS Model (β={beta}, ν={nu}, γ={gamma})")
    plt.xlabel("Time")
    plt.ylabel("Fraction of Population")
    plt.ylim(0, 1.05)
    plt.legend()
    plt.grid(True)
    plt.show()

interact(plot_sirs,
         beta=FloatSlider(value=0.3, min=0.0, max=1.0, step=0.01, description='Infection Rate (β)'),
         nu=FloatSlider(value=0.1, min=0.0, max=1.0, step=0.01, description='Recovery Rate (ν)'),
         gamma=FloatSlider(value=0.05, min=0.0, max=1.0, step=0.01, description='Immunity Loss Rate (γ)'))

