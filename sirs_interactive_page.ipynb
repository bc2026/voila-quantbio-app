{
 "cells": [
  {
   "cell_type": "code",
   "execution_count": null,
   "id": "3a81fca4",
   "metadata": {
    "vscode": {
     "languageId": "plaintext"
    }
   },
   "outputs": [],
   "source": [
    "import numpy as np\n",
    "import matplotlib.pyplot as plt\n",
    "from scipy.integrate import odeint\n",
    "from ipywidgets import interact, FloatSlider\n",
    "\n",
    "def sirs_model(y, t, beta, nu, gamma):\n",
    "    S, I, R = y\n",
    "    dSdt = -beta * S * I + gamma * R\n",
    "    dIdt = beta * S * I - nu * I\n",
    "    dRdt = nu * I - gamma * R\n",
    "    return [dSdt, dIdt, dRdt]\n",
    "\n",
    "def plot_sirs(beta=0.3, nu=0.1, gamma=0.05):\n",
    "    # Initial conditions\n",
    "    S0, I0, R0 = 0.9, 0.1, 0.0\n",
    "    y0 = [S0, I0, R0]\n",
    "    \n",
    "    t = np.linspace(0, 160, 400)\n",
    "    \n",
    "    # Integrate the SIRS equations\n",
    "    sol = odeint(sirs_model, y0, t, args=(beta, nu, gamma))\n",
    "    S, I, R = sol.T\n",
    "\n",
    "    plt.figure(figsize=(10, 6))\n",
    "    plt.plot(t, S, label=\"Susceptible\")\n",
    "    plt.plot(t, I, label=\"Infected\")\n",
    "    plt.plot(t, R, label=\"Recovered\")\n",
    "    plt.title(f\"SIRS Model (β={beta}, ν={nu}, γ={gamma})\")\n",
    "    plt.xlabel(\"Time\")\n",
    "    plt.ylabel(\"Fraction of Population\")\n",
    "    plt.ylim(0, 1.05)\n",
    "    plt.legend()\n",
    "    plt.grid(True)\n",
    "    plt.show()\n",
    "\n",
    "interact(plot_sirs,\n",
    "         beta=FloatSlider(value=0.3, min=0.0, max=1.0, step=0.01, description='Infection Rate (β)'),\n",
    "         nu=FloatSlider(value=0.1, min=0.0, max=1.0, step=0.01, description='Recovery Rate (ν)'),\n",
    "         gamma=FloatSlider(value=0.05, min=0.0, max=1.0, step=0.01, description='Immunity Loss Rate (γ)'))\n"
   ]
  }
 ],
 "metadata": {
  "kernelspec": {
   "display_name": "Python 3",
   "language": "python",
   "name": "python3"
  },
  "language_info": {
   "name": "python"
  }
 },
 "nbformat": 4,
 "nbformat_minor": 5
}
